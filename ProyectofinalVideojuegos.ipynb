{
 "cells": [
  {
   "cell_type": "markdown",
   "id": "86a1dad7",
   "metadata": {},
   "source": [
    "![](https://import.cdn.thinkific.com/220744/BExaQBPPQairRWFqxFbK_logo_mastermind_web_png)"
   ]
  },
  {
   "cell_type": "markdown",
   "id": "fe9937c1",
   "metadata": {},
   "source": [
    "¡Ahora es **vuestro turno!**\n",
    "\n",
    "En este proyecto final os he adjuntado un Dataset con 27.075 juegos en **Steam**, la popular plataforma de juegos de PC. Esta lista está actualizada desde el inicio hasta Abril de 2019.\n",
    "\n",
    "Ya que tenéis los conocimientos, os pediré que me contestéis a **10 preguntas**:\n",
    "1. Cual es el TOP10 de juegos más jugados?\n",
    "2. Cuál es el género de videojuegos más vendido?\n",
    "3. Qué géneros tienen mejores reviews de media?\n",
    "4. Cuánto ha ganado el desarrollador que más juegos ha vendido?\n",
    "5. Cómo afecta a las reviews que un juego sea Early Access?\n",
    "6. Cuál es el desarrollador (o desarrolladores) que más tipos de juego y cantidad ha desarrollado?\n",
    "7. En qué mes, desde que tenemos datos, se han publicado más juegos?\n",
    "8. Cuántas horas se juega de media a cada tipo de juego mensualmente?\n",
    "9. Los juegos Free to Play tienen mejores o peores reviews?\n",
    "10. Cómo ha evolucionado el número de achievements (trofeos) por juego?\n",
    "\n",
    "Os dejamos via libre para contestar a estas preguntas como más os apetezca. Recordad que no hay nada de malo en consultar por internet si tenéis dudas. Las documentaciones oficiales o [Stack Overflow](https://stackoverflow.com/) son sitios geniales para ello!\n",
    "\n",
    "Al acabar este proyecto, publicadlo en el foro donde está colgado para ver quién es el mejor!\n",
    "\n",
    "Os dejo la guía de pasos a seguir.\n",
    "\n",
    "Muchos ánimos!!\n",
    "\n",
    "\n"
   ]
  },
  {
   "cell_type": "markdown",
   "id": "18df0261",
   "metadata": {
    "heading_collapsed": true
   },
   "source": [
    "# Importando librerías"
   ]
  },
  {
   "cell_type": "code",
   "execution_count": 1,
   "id": "923c8888",
   "metadata": {
    "hidden": true
   },
   "outputs": [],
   "source": [
    "import urllib.request as Req\n",
    "from zipfile import ZipFile\n",
    "import numpy as np\n",
    "import pandas as pd\n",
    "import matplotlib.pyplot as plt\n",
    "from thefuzz import process,fuzz\n",
    "from unidecode import unidecode\n",
    "import pdb\n",
    "\n",
    "%matplotlib inline"
   ]
  },
  {
   "cell_type": "markdown",
   "id": "e3acb737",
   "metadata": {
    "heading_collapsed": true
   },
   "source": [
    "# Consiguiendo los datos"
   ]
  },
  {
   "cell_type": "markdown",
   "id": "42f5d40b",
   "metadata": {
    "heading_collapsed": true,
    "hidden": true
   },
   "source": [
    "### Conseguir link"
   ]
  },
  {
   "cell_type": "code",
   "execution_count": 2,
   "id": "ad9ca0ff",
   "metadata": {
    "hidden": true
   },
   "outputs": [],
   "source": [
    "url = 'https://neo-mastermind.s3.amazonaws.com/uploads/froala_editor/files/SteamDataset-220424-201858.zip'"
   ]
  },
  {
   "cell_type": "markdown",
   "id": "1b73c5c2",
   "metadata": {
    "heading_collapsed": true,
    "hidden": true
   },
   "source": [
    "### Descargar el archivo"
   ]
  },
  {
   "cell_type": "code",
   "execution_count": 3,
   "id": "7be2431e",
   "metadata": {
    "hidden": true
   },
   "outputs": [
    {
     "data": {
      "text/plain": [
       "('steam.zip', <http.client.HTTPMessage at 0x267cf4b3ec0>)"
      ]
     },
     "execution_count": 3,
     "metadata": {},
     "output_type": "execute_result"
    }
   ],
   "source": [
    "Req.urlretrieve(url, 'steam.zip')"
   ]
  },
  {
   "cell_type": "markdown",
   "id": "d80298c8",
   "metadata": {
    "heading_collapsed": true,
    "hidden": true
   },
   "source": [
    "### Descomprimir el archivo"
   ]
  },
  {
   "cell_type": "code",
   "execution_count": 4,
   "id": "515ffb9f",
   "metadata": {
    "hidden": true
   },
   "outputs": [],
   "source": [
    "steam_zip = ZipFile('steam.zip')"
   ]
  },
  {
   "cell_type": "code",
   "execution_count": 5,
   "id": "6161e628",
   "metadata": {
    "hidden": true
   },
   "outputs": [
    {
     "data": {
      "text/plain": [
       "[<ZipInfo filename='steam.csv' compress_type=deflate external_attr=0x20 file_size=3425223 compress_size=979195>]"
      ]
     },
     "execution_count": 5,
     "metadata": {},
     "output_type": "execute_result"
    }
   ],
   "source": [
    "steam_zip.filelist"
   ]
  },
  {
   "cell_type": "code",
   "execution_count": 6,
   "id": "807050d9",
   "metadata": {
    "hidden": true
   },
   "outputs": [],
   "source": [
    "archivo = steam_zip.open('steam.csv')"
   ]
  },
  {
   "cell_type": "markdown",
   "id": "9a36b95a",
   "metadata": {
    "heading_collapsed": true,
    "hidden": true
   },
   "source": [
    "### Construir DataFrame"
   ]
  },
  {
   "cell_type": "code",
   "execution_count": 7,
   "id": "715bbc8f",
   "metadata": {
    "hidden": true
   },
   "outputs": [],
   "source": [
    "df = pd.read_csv(archivo, index_col=0)"
   ]
  },
  {
   "cell_type": "markdown",
   "id": "2ca18c79",
   "metadata": {},
   "source": [
    "# Limpieza y manipulación de datos"
   ]
  },
  {
   "cell_type": "markdown",
   "id": "daf803f8",
   "metadata": {
    "heading_collapsed": true
   },
   "source": [
    "## Quitar datos duplicados o irrelevantes"
   ]
  },
  {
   "cell_type": "code",
   "execution_count": 8,
   "id": "b62c4b31",
   "metadata": {
    "hidden": true,
    "scrolled": false
   },
   "outputs": [
    {
     "data": {
      "text/plain": [
       "True"
      ]
     },
     "execution_count": 8,
     "metadata": {},
     "output_type": "execute_result"
    }
   ],
   "source": [
    "df.duplicated().any()"
   ]
  },
  {
   "cell_type": "code",
   "execution_count": 9,
   "id": "0725cf3e",
   "metadata": {
    "hidden": true,
    "scrolled": true
   },
   "outputs": [
    {
     "data": {
      "text/plain": [
       "28"
      ]
     },
     "execution_count": 9,
     "metadata": {},
     "output_type": "execute_result"
    }
   ],
   "source": [
    "df.duplicated().sum()"
   ]
  },
  {
   "cell_type": "code",
   "execution_count": 10,
   "id": "3a0ac809",
   "metadata": {
    "hidden": true,
    "scrolled": false
   },
   "outputs": [],
   "source": [
    "df = df.drop_duplicates()"
   ]
  },
  {
   "cell_type": "code",
   "execution_count": 11,
   "id": "eba170f4",
   "metadata": {
    "hidden": true,
    "scrolled": true
   },
   "outputs": [
    {
     "data": {
      "text/plain": [
       "Index(['name', 'release_date', 'developer', 'achievements', 'positive_ratings',\n",
       "       'negative_ratings', 'avg_hours_per_user', 'price', 'sells', 'action',\n",
       "       'adventure', 'rpg', 'simulation', 'strategy', 'racing', 'free_to_play',\n",
       "       'early_access'],\n",
       "      dtype='object')"
      ]
     },
     "execution_count": 11,
     "metadata": {},
     "output_type": "execute_result"
    }
   ],
   "source": [
    "df.columns"
   ]
  },
  {
   "cell_type": "code",
   "execution_count": 12,
   "id": "1c978e17",
   "metadata": {
    "hidden": true
   },
   "outputs": [],
   "source": [
    "df.drop('free_to_play', axis=1, inplace=True) # Redundante si tenemos la columna price, con la cual también generaba disparidades"
   ]
  },
  {
   "cell_type": "markdown",
   "id": "0fb77f6d",
   "metadata": {
    "heading_collapsed": true
   },
   "source": [
    "## Arreglar errores estructurales"
   ]
  },
  {
   "cell_type": "code",
   "execution_count": 45,
   "id": "087c63b0",
   "metadata": {
    "hidden": true,
    "scrolled": true
   },
   "outputs": [
    {
     "data": {
      "text/html": [
       "<div>\n",
       "<style scoped>\n",
       "    .dataframe tbody tr th:only-of-type {\n",
       "        vertical-align: middle;\n",
       "    }\n",
       "\n",
       "    .dataframe tbody tr th {\n",
       "        vertical-align: top;\n",
       "    }\n",
       "\n",
       "    .dataframe thead th {\n",
       "        text-align: right;\n",
       "    }\n",
       "</style>\n",
       "<table border=\"1\" class=\"dataframe\">\n",
       "  <thead>\n",
       "    <tr style=\"text-align: right;\">\n",
       "      <th></th>\n",
       "      <th>name</th>\n",
       "      <th>release_date</th>\n",
       "      <th>developer</th>\n",
       "      <th>achievements</th>\n",
       "      <th>positive_ratings</th>\n",
       "      <th>negative_ratings</th>\n",
       "      <th>avg_hours_per_user</th>\n",
       "      <th>price €</th>\n",
       "      <th>sells</th>\n",
       "      <th>action</th>\n",
       "      <th>adventure</th>\n",
       "      <th>rpg</th>\n",
       "      <th>simulation</th>\n",
       "      <th>strategy</th>\n",
       "      <th>racing</th>\n",
       "      <th>early_access</th>\n",
       "    </tr>\n",
       "  </thead>\n",
       "  <tbody>\n",
       "    <tr>\n",
       "      <th>0</th>\n",
       "      <td>Counter-Strike</td>\n",
       "      <td>2000-11-01</td>\n",
       "      <td>Valve</td>\n",
       "      <td>0</td>\n",
       "      <td>124534</td>\n",
       "      <td>3339</td>\n",
       "      <td>17612</td>\n",
       "      <td>7.19</td>\n",
       "      <td>15000000</td>\n",
       "      <td>True</td>\n",
       "      <td>False</td>\n",
       "      <td>False</td>\n",
       "      <td>False</td>\n",
       "      <td>False</td>\n",
       "      <td>False</td>\n",
       "      <td>False</td>\n",
       "    </tr>\n",
       "    <tr>\n",
       "      <th>1</th>\n",
       "      <td>Team Fortress Classic</td>\n",
       "      <td>1999-04-01</td>\n",
       "      <td>Valve</td>\n",
       "      <td>0</td>\n",
       "      <td>3318</td>\n",
       "      <td>633</td>\n",
       "      <td>277</td>\n",
       "      <td>3.99</td>\n",
       "      <td>7500000</td>\n",
       "      <td>True</td>\n",
       "      <td>False</td>\n",
       "      <td>False</td>\n",
       "      <td>False</td>\n",
       "      <td>False</td>\n",
       "      <td>False</td>\n",
       "      <td>False</td>\n",
       "    </tr>\n",
       "    <tr>\n",
       "      <th>2</th>\n",
       "      <td>Day of Defeat</td>\n",
       "      <td>2003-05-01</td>\n",
       "      <td>Valve</td>\n",
       "      <td>0</td>\n",
       "      <td>3416</td>\n",
       "      <td>398</td>\n",
       "      <td>187</td>\n",
       "      <td>3.99</td>\n",
       "      <td>7500000</td>\n",
       "      <td>True</td>\n",
       "      <td>False</td>\n",
       "      <td>False</td>\n",
       "      <td>False</td>\n",
       "      <td>False</td>\n",
       "      <td>False</td>\n",
       "      <td>False</td>\n",
       "    </tr>\n",
       "    <tr>\n",
       "      <th>3</th>\n",
       "      <td>Deathmatch Classic</td>\n",
       "      <td>2001-06-01</td>\n",
       "      <td>Valve</td>\n",
       "      <td>0</td>\n",
       "      <td>1273</td>\n",
       "      <td>267</td>\n",
       "      <td>258</td>\n",
       "      <td>3.99</td>\n",
       "      <td>7500000</td>\n",
       "      <td>True</td>\n",
       "      <td>False</td>\n",
       "      <td>False</td>\n",
       "      <td>False</td>\n",
       "      <td>False</td>\n",
       "      <td>False</td>\n",
       "      <td>False</td>\n",
       "    </tr>\n",
       "    <tr>\n",
       "      <th>4</th>\n",
       "      <td>Half-Life: Opposing Force</td>\n",
       "      <td>1999-11-01</td>\n",
       "      <td>Gearbox Software</td>\n",
       "      <td>0</td>\n",
       "      <td>5250</td>\n",
       "      <td>288</td>\n",
       "      <td>624</td>\n",
       "      <td>3.99</td>\n",
       "      <td>7500000</td>\n",
       "      <td>True</td>\n",
       "      <td>False</td>\n",
       "      <td>False</td>\n",
       "      <td>False</td>\n",
       "      <td>False</td>\n",
       "      <td>False</td>\n",
       "      <td>False</td>\n",
       "    </tr>\n",
       "  </tbody>\n",
       "</table>\n",
       "</div>"
      ],
      "text/plain": [
       "                        name release_date         developer  achievements  \\\n",
       "0             Counter-Strike   2000-11-01             Valve             0   \n",
       "1      Team Fortress Classic   1999-04-01             Valve             0   \n",
       "2              Day of Defeat   2003-05-01             Valve             0   \n",
       "3         Deathmatch Classic   2001-06-01             Valve             0   \n",
       "4  Half-Life: Opposing Force   1999-11-01  Gearbox Software             0   \n",
       "\n",
       "   positive_ratings  negative_ratings  avg_hours_per_user  price €     sells  \\\n",
       "0            124534              3339               17612     7.19  15000000   \n",
       "1              3318               633                 277     3.99   7500000   \n",
       "2              3416               398                 187     3.99   7500000   \n",
       "3              1273               267                 258     3.99   7500000   \n",
       "4              5250               288                 624     3.99   7500000   \n",
       "\n",
       "   action  adventure    rpg  simulation  strategy  racing  early_access  \n",
       "0    True      False  False       False     False   False         False  \n",
       "1    True      False  False       False     False   False         False  \n",
       "2    True      False  False       False     False   False         False  \n",
       "3    True      False  False       False     False   False         False  \n",
       "4    True      False  False       False     False   False         False  "
      ]
     },
     "execution_count": 45,
     "metadata": {},
     "output_type": "execute_result"
    }
   ],
   "source": [
    "df.head()"
   ]
  },
  {
   "cell_type": "code",
   "execution_count": 42,
   "id": "4ce02ce2",
   "metadata": {
    "hidden": true,
    "scrolled": true
   },
   "outputs": [
    {
     "data": {
      "text/html": [
       "<div>\n",
       "<style scoped>\n",
       "    .dataframe tbody tr th:only-of-type {\n",
       "        vertical-align: middle;\n",
       "    }\n",
       "\n",
       "    .dataframe tbody tr th {\n",
       "        vertical-align: top;\n",
       "    }\n",
       "\n",
       "    .dataframe thead th {\n",
       "        text-align: right;\n",
       "    }\n",
       "</style>\n",
       "<table border=\"1\" class=\"dataframe\">\n",
       "  <thead>\n",
       "    <tr style=\"text-align: right;\">\n",
       "      <th></th>\n",
       "      <th>name</th>\n",
       "      <th>release_date</th>\n",
       "      <th>developer</th>\n",
       "      <th>achievements</th>\n",
       "      <th>positive_ratings</th>\n",
       "      <th>negative_ratings</th>\n",
       "      <th>avg_hours_per_user</th>\n",
       "      <th>price €</th>\n",
       "      <th>sells</th>\n",
       "      <th>action</th>\n",
       "      <th>adventure</th>\n",
       "      <th>rpg</th>\n",
       "      <th>simulation</th>\n",
       "      <th>strategy</th>\n",
       "      <th>racing</th>\n",
       "      <th>early_access</th>\n",
       "    </tr>\n",
       "  </thead>\n",
       "  <tbody>\n",
       "    <tr>\n",
       "      <th>29318</th>\n",
       "      <td>Room of Pandora</td>\n",
       "      <td>2019-04-24</td>\n",
       "      <td>SHEN JIAWEI</td>\n",
       "      <td>7</td>\n",
       "      <td>3</td>\n",
       "      <td>0</td>\n",
       "      <td>0</td>\n",
       "      <td>2.09</td>\n",
       "      <td>10000</td>\n",
       "      <td>False</td>\n",
       "      <td>True</td>\n",
       "      <td>False</td>\n",
       "      <td>False</td>\n",
       "      <td>False</td>\n",
       "      <td>False</td>\n",
       "      <td>False</td>\n",
       "    </tr>\n",
       "    <tr>\n",
       "      <th>29319</th>\n",
       "      <td>Cyber Gun</td>\n",
       "      <td>2019-04-23</td>\n",
       "      <td>Semyon Maximov</td>\n",
       "      <td>0</td>\n",
       "      <td>8</td>\n",
       "      <td>1</td>\n",
       "      <td>0</td>\n",
       "      <td>1.69</td>\n",
       "      <td>10000</td>\n",
       "      <td>True</td>\n",
       "      <td>True</td>\n",
       "      <td>False</td>\n",
       "      <td>False</td>\n",
       "      <td>False</td>\n",
       "      <td>False</td>\n",
       "      <td>False</td>\n",
       "    </tr>\n",
       "    <tr>\n",
       "      <th>29320</th>\n",
       "      <td>Super Star Blast</td>\n",
       "      <td>2019-04-24</td>\n",
       "      <td>EntwicklerX</td>\n",
       "      <td>24</td>\n",
       "      <td>0</td>\n",
       "      <td>1</td>\n",
       "      <td>0</td>\n",
       "      <td>3.99</td>\n",
       "      <td>10000</td>\n",
       "      <td>True</td>\n",
       "      <td>False</td>\n",
       "      <td>False</td>\n",
       "      <td>False</td>\n",
       "      <td>False</td>\n",
       "      <td>False</td>\n",
       "      <td>False</td>\n",
       "    </tr>\n",
       "    <tr>\n",
       "      <th>29321</th>\n",
       "      <td>New Yankee 7: Deer Hunters</td>\n",
       "      <td>2019-04-17</td>\n",
       "      <td>Yustas Game Studio</td>\n",
       "      <td>0</td>\n",
       "      <td>2</td>\n",
       "      <td>0</td>\n",
       "      <td>0</td>\n",
       "      <td>5.19</td>\n",
       "      <td>10000</td>\n",
       "      <td>False</td>\n",
       "      <td>True</td>\n",
       "      <td>False</td>\n",
       "      <td>False</td>\n",
       "      <td>False</td>\n",
       "      <td>False</td>\n",
       "      <td>False</td>\n",
       "    </tr>\n",
       "    <tr>\n",
       "      <th>29322</th>\n",
       "      <td>Rune Lord</td>\n",
       "      <td>2019-04-24</td>\n",
       "      <td>Adept Studios GD</td>\n",
       "      <td>0</td>\n",
       "      <td>4</td>\n",
       "      <td>0</td>\n",
       "      <td>0</td>\n",
       "      <td>5.19</td>\n",
       "      <td>10000</td>\n",
       "      <td>False</td>\n",
       "      <td>True</td>\n",
       "      <td>False</td>\n",
       "      <td>False</td>\n",
       "      <td>False</td>\n",
       "      <td>False</td>\n",
       "      <td>False</td>\n",
       "    </tr>\n",
       "  </tbody>\n",
       "</table>\n",
       "</div>"
      ],
      "text/plain": [
       "                             name release_date           developer  \\\n",
       "29318             Room of Pandora   2019-04-24         SHEN JIAWEI   \n",
       "29319                   Cyber Gun   2019-04-23      Semyon Maximov   \n",
       "29320            Super Star Blast   2019-04-24         EntwicklerX   \n",
       "29321  New Yankee 7: Deer Hunters   2019-04-17  Yustas Game Studio   \n",
       "29322                   Rune Lord   2019-04-24    Adept Studios GD   \n",
       "\n",
       "       achievements  positive_ratings  negative_ratings  avg_hours_per_user  \\\n",
       "29318             7                 3                 0                   0   \n",
       "29319             0                 8                 1                   0   \n",
       "29320            24                 0                 1                   0   \n",
       "29321             0                 2                 0                   0   \n",
       "29322             0                 4                 0                   0   \n",
       "\n",
       "       price €  sells  action  adventure    rpg  simulation  strategy  racing  \\\n",
       "29318     2.09  10000   False       True  False       False     False   False   \n",
       "29319     1.69  10000    True       True  False       False     False   False   \n",
       "29320     3.99  10000    True      False  False       False     False   False   \n",
       "29321     5.19  10000   False       True  False       False     False   False   \n",
       "29322     5.19  10000   False       True  False       False     False   False   \n",
       "\n",
       "       early_access  \n",
       "29318         False  \n",
       "29319         False  \n",
       "29320         False  \n",
       "29321         False  \n",
       "29322         False  "
      ]
     },
     "execution_count": 42,
     "metadata": {},
     "output_type": "execute_result"
    }
   ],
   "source": [
    "df.tail()"
   ]
  },
  {
   "cell_type": "code",
   "execution_count": 43,
   "id": "8cf661b2",
   "metadata": {
    "hidden": true,
    "scrolled": false
   },
   "outputs": [
    {
     "data": {
      "text/html": [
       "<div>\n",
       "<style scoped>\n",
       "    .dataframe tbody tr th:only-of-type {\n",
       "        vertical-align: middle;\n",
       "    }\n",
       "\n",
       "    .dataframe tbody tr th {\n",
       "        vertical-align: top;\n",
       "    }\n",
       "\n",
       "    .dataframe thead th {\n",
       "        text-align: right;\n",
       "    }\n",
       "</style>\n",
       "<table border=\"1\" class=\"dataframe\">\n",
       "  <thead>\n",
       "    <tr style=\"text-align: right;\">\n",
       "      <th></th>\n",
       "      <th>name</th>\n",
       "      <th>release_date</th>\n",
       "      <th>developer</th>\n",
       "      <th>achievements</th>\n",
       "      <th>positive_ratings</th>\n",
       "      <th>negative_ratings</th>\n",
       "      <th>avg_hours_per_user</th>\n",
       "      <th>price €</th>\n",
       "      <th>sells</th>\n",
       "      <th>action</th>\n",
       "      <th>adventure</th>\n",
       "      <th>rpg</th>\n",
       "      <th>simulation</th>\n",
       "      <th>strategy</th>\n",
       "      <th>racing</th>\n",
       "      <th>early_access</th>\n",
       "    </tr>\n",
       "  </thead>\n",
       "  <tbody>\n",
       "    <tr>\n",
       "      <th>7022</th>\n",
       "      <td>Escape From BioStation</td>\n",
       "      <td>2017-07-03</td>\n",
       "      <td>Tusky Games</td>\n",
       "      <td>11</td>\n",
       "      <td>15</td>\n",
       "      <td>2</td>\n",
       "      <td>0</td>\n",
       "      <td>0.79</td>\n",
       "      <td>10000</td>\n",
       "      <td>True</td>\n",
       "      <td>True</td>\n",
       "      <td>False</td>\n",
       "      <td>False</td>\n",
       "      <td>False</td>\n",
       "      <td>False</td>\n",
       "      <td>False</td>\n",
       "    </tr>\n",
       "    <tr>\n",
       "      <th>21142</th>\n",
       "      <td>Ostalgie: The Berlin Wall</td>\n",
       "      <td>2018-03-25</td>\n",
       "      <td>Kremlingames</td>\n",
       "      <td>55</td>\n",
       "      <td>284</td>\n",
       "      <td>18</td>\n",
       "      <td>571</td>\n",
       "      <td>4.49</td>\n",
       "      <td>75000</td>\n",
       "      <td>False</td>\n",
       "      <td>False</td>\n",
       "      <td>False</td>\n",
       "      <td>True</td>\n",
       "      <td>True</td>\n",
       "      <td>False</td>\n",
       "      <td>False</td>\n",
       "    </tr>\n",
       "    <tr>\n",
       "      <th>18868</th>\n",
       "      <td>Sneaky Bears</td>\n",
       "      <td>2017-10-17</td>\n",
       "      <td>WarDucks</td>\n",
       "      <td>24</td>\n",
       "      <td>13</td>\n",
       "      <td>0</td>\n",
       "      <td>0</td>\n",
       "      <td>6.19</td>\n",
       "      <td>10000</td>\n",
       "      <td>True</td>\n",
       "      <td>True</td>\n",
       "      <td>False</td>\n",
       "      <td>False</td>\n",
       "      <td>False</td>\n",
       "      <td>False</td>\n",
       "      <td>False</td>\n",
       "    </tr>\n",
       "    <tr>\n",
       "      <th>22433</th>\n",
       "      <td>Art of Murder - FBI Confidential</td>\n",
       "      <td>2018-07-13</td>\n",
       "      <td>City Interactive S A</td>\n",
       "      <td>0</td>\n",
       "      <td>19</td>\n",
       "      <td>1</td>\n",
       "      <td>0</td>\n",
       "      <td>3.99</td>\n",
       "      <td>10000</td>\n",
       "      <td>False</td>\n",
       "      <td>True</td>\n",
       "      <td>False</td>\n",
       "      <td>False</td>\n",
       "      <td>False</td>\n",
       "      <td>False</td>\n",
       "      <td>False</td>\n",
       "    </tr>\n",
       "    <tr>\n",
       "      <th>13395</th>\n",
       "      <td>The Spirit Underneath</td>\n",
       "      <td>2017-01-02</td>\n",
       "      <td>Acuze Interactives</td>\n",
       "      <td>0</td>\n",
       "      <td>28</td>\n",
       "      <td>60</td>\n",
       "      <td>216</td>\n",
       "      <td>0.79</td>\n",
       "      <td>350000</td>\n",
       "      <td>False</td>\n",
       "      <td>True</td>\n",
       "      <td>False</td>\n",
       "      <td>False</td>\n",
       "      <td>False</td>\n",
       "      <td>False</td>\n",
       "      <td>False</td>\n",
       "    </tr>\n",
       "  </tbody>\n",
       "</table>\n",
       "</div>"
      ],
      "text/plain": [
       "                                   name release_date             developer  \\\n",
       "7022             Escape From BioStation   2017-07-03           Tusky Games   \n",
       "21142         Ostalgie: The Berlin Wall   2018-03-25          Kremlingames   \n",
       "18868                      Sneaky Bears   2017-10-17              WarDucks   \n",
       "22433  Art of Murder - FBI Confidential   2018-07-13  City Interactive S A   \n",
       "13395             The Spirit Underneath   2017-01-02    Acuze Interactives   \n",
       "\n",
       "       achievements  positive_ratings  negative_ratings  avg_hours_per_user  \\\n",
       "7022             11                15                 2                   0   \n",
       "21142            55               284                18                 571   \n",
       "18868            24                13                 0                   0   \n",
       "22433             0                19                 1                   0   \n",
       "13395             0                28                60                 216   \n",
       "\n",
       "       price €   sells  action  adventure    rpg  simulation  strategy  \\\n",
       "7022      0.79   10000    True       True  False       False     False   \n",
       "21142     4.49   75000   False      False  False        True      True   \n",
       "18868     6.19   10000    True       True  False       False     False   \n",
       "22433     3.99   10000   False       True  False       False     False   \n",
       "13395     0.79  350000   False       True  False       False     False   \n",
       "\n",
       "       racing  early_access  \n",
       "7022    False         False  \n",
       "21142   False         False  \n",
       "18868   False         False  \n",
       "22433   False         False  \n",
       "13395   False         False  "
      ]
     },
     "execution_count": 43,
     "metadata": {},
     "output_type": "execute_result"
    }
   ],
   "source": [
    "df.sample(5)"
   ]
  },
  {
   "cell_type": "markdown",
   "id": "04610459",
   "metadata": {
    "heading_collapsed": true,
    "hidden": true
   },
   "source": [
    "### Definir errores\n",
    "\n",
    "Recuerda hacer una exploración de datos para encontrar estos errores. Os confirmo que hay unos cuantos!\n",
    "\n",
    "Tanto \"price\" como \"sells\" intenté reasignarlos con df[columna].astype(type) para evitar el warning, pero en ambos casos no funcionó y se mantenía en tipo object, por lo que hice la asignación normal con df[columna] = df[columna].astype(type)"
   ]
  },
  {
   "cell_type": "markdown",
   "id": "e0d6ecbf",
   "metadata": {
    "heading_collapsed": true,
    "hidden": true
   },
   "source": [
    "#### Separar múltiples desarrolladoras en varias listas"
   ]
  },
  {
   "cell_type": "code",
   "execution_count": 16,
   "id": "bb48a678",
   "metadata": {
    "hidden": true
   },
   "outputs": [],
   "source": [
    "df.loc[:, 'developer'] = df['developer'].str.split(\";\")"
   ]
  },
  {
   "cell_type": "code",
   "execution_count": 17,
   "id": "338549a7",
   "metadata": {
    "hidden": true
   },
   "outputs": [],
   "source": [
    "df = df.explode('developer').reset_index(drop=True)"
   ]
  },
  {
   "cell_type": "markdown",
   "id": "e8c1f788",
   "metadata": {
    "heading_collapsed": true,
    "hidden": true
   },
   "source": [
    "#### Eliminar carácteres especiales de \"developer\""
   ]
  },
  {
   "cell_type": "code",
   "execution_count": 18,
   "id": "3cf0d2d5",
   "metadata": {
    "hidden": true
   },
   "outputs": [],
   "source": [
    "pat = r'[^\\w\\s]|_'"
   ]
  },
  {
   "cell_type": "code",
   "execution_count": 19,
   "id": "bc25222f",
   "metadata": {
    "hidden": true
   },
   "outputs": [],
   "source": [
    "df.loc[:, 'developer'] = df['developer'].str.replace(pat, ' ', regex=True)"
   ]
  },
  {
   "cell_type": "code",
   "execution_count": 20,
   "id": "4aeaab44",
   "metadata": {
    "hidden": true
   },
   "outputs": [],
   "source": [
    "df.loc[:, 'developer'] = df['developer'].apply(lambda x: unidecode(x) if isinstance(x, str) else x)"
   ]
  },
  {
   "cell_type": "code",
   "execution_count": 21,
   "id": "fcb9faf8",
   "metadata": {
    "hidden": true
   },
   "outputs": [],
   "source": [
    "df.loc[:, 'developer'] = df['developer'].str.replace(r'\\s+', ' ', regex=True)"
   ]
  },
  {
   "cell_type": "code",
   "execution_count": 22,
   "id": "e6cf390b",
   "metadata": {
    "hidden": true
   },
   "outputs": [],
   "source": [
    "df.loc[22980, 'developer'] = df.loc[22981, 'developer']"
   ]
  },
  {
   "cell_type": "code",
   "execution_count": 23,
   "id": "117255cc",
   "metadata": {
    "hidden": true
   },
   "outputs": [],
   "source": [
    "df = df.drop_duplicates()"
   ]
  },
  {
   "cell_type": "markdown",
   "id": "016d6453",
   "metadata": {
    "heading_collapsed": true,
    "hidden": true
   },
   "source": [
    "#### Eliminar espacios extras en \"name\" y \"developer\""
   ]
  },
  {
   "cell_type": "code",
   "execution_count": 47,
   "id": "6d05e390",
   "metadata": {
    "hidden": true
   },
   "outputs": [],
   "source": [
    "name_espacios = df['name'] != df['name'].str.strip()"
   ]
  },
  {
   "cell_type": "code",
   "execution_count": 48,
   "id": "e4c919fa",
   "metadata": {
    "hidden": true
   },
   "outputs": [
    {
     "data": {
      "text/plain": [
       "array([False])"
      ]
     },
     "execution_count": 48,
     "metadata": {},
     "output_type": "execute_result"
    }
   ],
   "source": [
    "name_espacios.unique()"
   ]
  },
  {
   "cell_type": "code",
   "execution_count": 26,
   "id": "43267f9b",
   "metadata": {
    "hidden": true
   },
   "outputs": [],
   "source": [
    "df.loc[:, 'name'] = df['name'].str.strip()"
   ]
  },
  {
   "cell_type": "code",
   "execution_count": 49,
   "id": "d4a3a598",
   "metadata": {
    "hidden": true
   },
   "outputs": [],
   "source": [
    "developer_espacios = df['developer'] != df['developer'].str.strip()"
   ]
  },
  {
   "cell_type": "code",
   "execution_count": 50,
   "id": "0358542a",
   "metadata": {
    "hidden": true
   },
   "outputs": [
    {
     "data": {
      "text/plain": [
       "array([False,  True])"
      ]
     },
     "execution_count": 50,
     "metadata": {},
     "output_type": "execute_result"
    }
   ],
   "source": [
    "developer_espacios.unique()"
   ]
  },
  {
   "cell_type": "code",
   "execution_count": 29,
   "id": "b7a0d0eb",
   "metadata": {
    "hidden": true
   },
   "outputs": [],
   "source": [
    "df.loc[:, 'developer'] = df['developer'].str.strip()"
   ]
  },
  {
   "cell_type": "code",
   "execution_count": 51,
   "id": "640351b2",
   "metadata": {
    "hidden": true,
    "scrolled": true
   },
   "outputs": [
    {
     "data": {
      "text/html": [
       "<div>\n",
       "<style scoped>\n",
       "    .dataframe tbody tr th:only-of-type {\n",
       "        vertical-align: middle;\n",
       "    }\n",
       "\n",
       "    .dataframe tbody tr th {\n",
       "        vertical-align: top;\n",
       "    }\n",
       "\n",
       "    .dataframe thead th {\n",
       "        text-align: right;\n",
       "    }\n",
       "</style>\n",
       "<table border=\"1\" class=\"dataframe\">\n",
       "  <thead>\n",
       "    <tr style=\"text-align: right;\">\n",
       "      <th></th>\n",
       "      <th>name</th>\n",
       "      <th>release_date</th>\n",
       "      <th>developer</th>\n",
       "      <th>achievements</th>\n",
       "      <th>positive_ratings</th>\n",
       "      <th>negative_ratings</th>\n",
       "      <th>avg_hours_per_user</th>\n",
       "      <th>price €</th>\n",
       "      <th>sells</th>\n",
       "      <th>action</th>\n",
       "      <th>adventure</th>\n",
       "      <th>rpg</th>\n",
       "      <th>simulation</th>\n",
       "      <th>strategy</th>\n",
       "      <th>racing</th>\n",
       "      <th>early_access</th>\n",
       "    </tr>\n",
       "  </thead>\n",
       "  <tbody>\n",
       "    <tr>\n",
       "      <th>25003</th>\n",
       "      <td>The Battle Of Ages</td>\n",
       "      <td>2018-09-07</td>\n",
       "      <td>NaN</td>\n",
       "      <td>0</td>\n",
       "      <td>2</td>\n",
       "      <td>1</td>\n",
       "      <td>0</td>\n",
       "      <td>3.99</td>\n",
       "      <td>10000</td>\n",
       "      <td>True</td>\n",
       "      <td>False</td>\n",
       "      <td>True</td>\n",
       "      <td>False</td>\n",
       "      <td>False</td>\n",
       "      <td>False</td>\n",
       "      <td>True</td>\n",
       "    </tr>\n",
       "  </tbody>\n",
       "</table>\n",
       "</div>"
      ],
      "text/plain": [
       "                     name release_date developer  achievements  \\\n",
       "25003  The Battle Of Ages   2018-09-07       NaN             0   \n",
       "\n",
       "       positive_ratings  negative_ratings  avg_hours_per_user  price €  sells  \\\n",
       "25003                 2                 1                   0     3.99  10000   \n",
       "\n",
       "       action  adventure   rpg  simulation  strategy  racing  early_access  \n",
       "25003    True      False  True       False     False   False          True  "
      ]
     },
     "execution_count": 51,
     "metadata": {},
     "output_type": "execute_result"
    }
   ],
   "source": [
    "df[df['developer'].str.strip() != df['developer']]"
   ]
  },
  {
   "cell_type": "markdown",
   "id": "e6d071d4",
   "metadata": {
    "heading_collapsed": true,
    "hidden": true
   },
   "source": [
    "#### Normalizar nombres en \"developer\""
   ]
  },
  {
   "cell_type": "markdown",
   "id": "9f79e02e",
   "metadata": {
    "heading_collapsed": true,
    "hidden": true
   },
   "source": [
    "##### Intento Fallido"
   ]
  },
  {
   "cell_type": "markdown",
   "id": "3fc06cb3",
   "metadata": {
    "hidden": true
   },
   "source": [
    "Intenté crear un diccionario de equivalencias que afecte a todas las desarrolladoras en el DataFrame, le di muchas vueltas al problema para poder solucionarlo, pero no pude. Son demasiadas desarrolladoras distintas, muchas con nombres muy parecidos entre si, pero que no son una misma desarrolladora, o con palabras en común que dificultaba la diferenciación entre las que pertenecen y la que no a una misma desarrolladora. Dejo igualmente el código que estuve probando, del cual agradecería tener una correción y alguna solución a este problema, ya que no quedé contento teniendo que resolver este problema a medias, de ser posible me gustaría poder arreglarlo aunque sea posterior a la correción incluso. Muchas gracias!"
   ]
  },
  {
   "cell_type": "code",
   "execution_count": 31,
   "id": "251da205",
   "metadata": {
    "hidden": true
   },
   "outputs": [
    {
     "data": {
      "text/plain": [
       "\"devs = set(df['developer'].unique())\\ndevs_lower = {dev.lower(): dev for dev in devs if isinstance(dev, str)}\\nmatches = {}\\nprocessed = set()\""
      ]
     },
     "execution_count": 31,
     "metadata": {},
     "output_type": "execute_result"
    }
   ],
   "source": [
    "\"\"\"devs = set(df['developer'].unique())\n",
    "devs_lower = {dev.lower(): dev for dev in devs if isinstance(dev, str)}\n",
    "matches = {}\n",
    "processed = set()\"\"\""
   ]
  },
  {
   "cell_type": "code",
   "execution_count": 32,
   "id": "e48ad392",
   "metadata": {
    "hidden": true
   },
   "outputs": [
    {
     "data": {
      "text/plain": [
       "'for dev in devs:\\n    if dev in processed or pd.isna(dev):\\n        continue\\n    close_matches = process.extract(dev.lower(), devs_lower.keys(), limit=10, scorer=fuzz.ratio)\\n    group = [name for name, score in close_matches if score > 85]\\n    \\n    if len(set(group)) > 1:\\n        reference = min(group, key=len)\\n        for name in group:\\n            matches[devs_lower[name]] = devs_lower[reference]\\n        processed.update(group)'"
      ]
     },
     "execution_count": 32,
     "metadata": {},
     "output_type": "execute_result"
    }
   ],
   "source": [
    "\"\"\"for dev in devs:\n",
    "    if dev in processed or pd.isna(dev):\n",
    "        continue\n",
    "    close_matches = process.extract(dev.lower(), devs_lower.keys(), limit=10, scorer=fuzz.ratio)\n",
    "    group = [name for name, score in close_matches if score > 85]\n",
    "    \n",
    "    if len(set(group)) > 1:\n",
    "        reference = min(group, key=len)\n",
    "        for name in group:\n",
    "            matches[devs_lower[name]] = devs_lower[reference]\n",
    "        processed.update(group)\"\"\""
   ]
  },
  {
   "cell_type": "markdown",
   "id": "29d9b958",
   "metadata": {
    "heading_collapsed": true,
    "hidden": true
   },
   "source": [
    "##### Desarrolladoras más importante"
   ]
  },
  {
   "cell_type": "markdown",
   "id": "d74b2585",
   "metadata": {
    "hidden": true
   },
   "source": [
    "Cree este diccionario de forma manual para solucionar al menos una parte del problema y poder continuar con el trabajo. Se que no es lo óptimo, pero es lo más que pude hacer, realmente esta parte de normalización de las desarrolladoras me excedió."
   ]
  },
  {
   "cell_type": "code",
   "execution_count": 33,
   "id": "c85e6464",
   "metadata": {
    "hidden": true
   },
   "outputs": [],
   "source": [
    "developer_mapping = {\n",
    "    'CAPCOM Co Ltd': 'Capcom', \n",
    "    'Capcom': 'Capcom', \n",
    "    'CAPCOM CO LTD': 'Capcom', \n",
    "    'Capcom Vancouver': 'Capcom', \n",
    "    'Capcom U S A Inc': 'Capcom', \n",
    "    'Capcom Game Studio Vancouver': 'Capcom', \n",
    "    'CAPCOM': 'Capcom', \n",
    "    'Capcom Game Studio Vancouver Inc': 'Capcom',\n",
    "    'Ubisoft': 'Ubisoft', \n",
    "    'Ubisoft Montreal': 'Ubisoft', \n",
    "    'Ubisoft Bulgaria': 'Ubisoft', \n",
    "    'Ubisoft Montpellier': 'Ubisoft', \n",
    "    'Ubisoft Romania': 'Ubisoft', \n",
    "    'Ubisoft Reflections': 'Ubisoft', \n",
    "    'Ubisoft Shanghai': 'Ubisoft', \n",
    "    'Ubisoft San Francisco': 'Ubisoft', \n",
    "    'Ubisoft Paris': 'Ubisoft', \n",
    "    'Ubisoft Montreal Massive Entertainment and Ubisoft Shanghai': 'Ubisoft', \n",
    "    'Ubisoft Toronto': 'Ubisoft', \n",
    "    'Ivory Tower in collaboration with Ubisoft Reflections': 'Ubisoft', \n",
    "    'RedLynx in collaboration with Ubisoft Shanghai Ubisoft Kiev': 'Ubisoft', \n",
    "    'Ubisoft Sofia': 'Ubisoft', \n",
    "    'Ubisoft Montreal Red Storm Shanghai Toronto Kiev': 'Ubisoft', \n",
    "    'Ubisoft Quebec': 'Ubisoft', \n",
    "    'Ubisoft Kiev': 'Ubisoft', \n",
    "    'Reflections a Ubisoft Studio': 'Ubisoft', \n",
    "    'Ubisoft Quebec in collaboration with Ubisoft Annecy Bucharest Kiev Montreal Montpellier Shanghai Singapore Sofia Toronto studios': 'Ubisoft', \n",
    "    'Ubisoft Montreal Studio': 'Ubisoft', \n",
    "    'Ubisoft Pune': 'Ubisoft', \n",
    "    'Ubisoft Annecy': 'Ubisoft', \n",
    "    'Ubisoft Bucharest': 'Ubisoft', \n",
    "    'Ubisoft Milan': 'Ubisoft', \n",
    "    'Ubisoft Belgrade': 'Ubisoft', \n",
    "    'Ubisoft Entertainment': 'Ubisoft', \n",
    "    'Ubisoft Singapore': 'Ubisoft', \n",
    "    'Ubisoft Blue Byte': 'Ubisoft',\n",
    "    'Valve': 'Valve', \n",
    "    'Valve Corporation Nexon Korea Corporation': 'Valve',\n",
    "    'BANDAI NAMCO Studio Inc': 'Bandai Namco', \n",
    "    'NAMCO BANDAI Games': 'Bandai Namco', \n",
    "    'BANDAI NAMCO Entertainment Inc': 'Bandai Namco', \n",
    "    'BANDAI NAMCO Studios Inc': 'Bandai Namco', \n",
    "    'BANDAI NAMCO Studio': 'Bandai Namco', \n",
    "    'BANDAI NAMCO Studios Vancouver': 'Bandai Namco', \n",
    "    'BANDAI NAMCO Studios': 'Bandai Namco',\n",
    "    'Square Enix': 'Square Enix', \n",
    "    'SQUARE ENIX': 'Square Enix', \n",
    "    'Square Enix Montreal': 'Square Enix',\n",
    "    'SEGA': 'SEGA', \n",
    "    'SEGA Studios Australia': 'SEGA', \n",
    "    'SEGA Hardlight': 'SEGA',\n",
    "    '2K Czech': '2K', \n",
    "    '2K Marin': '2K', \n",
    "    '2K Australia': '2K', \n",
    "    '2K Boston': '2K', \n",
    "    '2K China': '2K',\n",
    "    'FromSoftware': 'FromSoftware', \n",
    "    'FromSoftware Inc': 'FromSoftware',\n",
    "    'BioWare Corporation': 'BioWare', \n",
    "    'BioWare': 'BioWare'\n",
    "}"
   ]
  },
  {
   "cell_type": "code",
   "execution_count": 34,
   "id": "ce6c9c73",
   "metadata": {
    "hidden": true
   },
   "outputs": [],
   "source": [
    "df['developer'] = df['developer'].replace(developer_mapping)"
   ]
  },
  {
   "cell_type": "code",
   "execution_count": 35,
   "id": "1b8280aa",
   "metadata": {
    "hidden": true
   },
   "outputs": [],
   "source": [
    "df = df.drop_duplicates()"
   ]
  },
  {
   "cell_type": "code",
   "execution_count": 36,
   "id": "2a5299a1",
   "metadata": {
    "hidden": true
   },
   "outputs": [
    {
     "data": {
      "text/plain": [
       "29285"
      ]
     },
     "execution_count": 36,
     "metadata": {},
     "output_type": "execute_result"
    }
   ],
   "source": [
    "len(df)"
   ]
  },
  {
   "cell_type": "markdown",
   "id": "287bd932",
   "metadata": {
    "heading_collapsed": true,
    "hidden": true
   },
   "source": [
    "#### Convertir \"release_date\" a datetime"
   ]
  },
  {
   "cell_type": "code",
   "execution_count": 37,
   "id": "f14bd302",
   "metadata": {
    "hidden": true
   },
   "outputs": [],
   "source": [
    "df['release_date'] = pd.to_datetime(df['release_date'])"
   ]
  },
  {
   "cell_type": "markdown",
   "id": "f16dac9a",
   "metadata": {
    "heading_collapsed": true,
    "hidden": true
   },
   "source": [
    "#### Quitar € de \"price\" y pasarlo a float"
   ]
  },
  {
   "cell_type": "code",
   "execution_count": 38,
   "id": "93e269d1",
   "metadata": {
    "hidden": true
   },
   "outputs": [],
   "source": [
    "df.rename(columns={'price': 'price €'}, inplace=True)"
   ]
  },
  {
   "cell_type": "code",
   "execution_count": 39,
   "id": "22bd797b",
   "metadata": {
    "hidden": true
   },
   "outputs": [],
   "source": [
    "df['price €'] = df['price €'].str.replace(\"€\", \"\").astype(float)"
   ]
  },
  {
   "cell_type": "markdown",
   "id": "804ee262",
   "metadata": {
    "heading_collapsed": true,
    "hidden": true
   },
   "source": [
    "#### Convertir \"sells\" a int"
   ]
  },
  {
   "cell_type": "code",
   "execution_count": 40,
   "id": "860455c3",
   "metadata": {
    "hidden": true
   },
   "outputs": [],
   "source": [
    "df['sells'] = df['sells'].astype('int64')"
   ]
  },
  {
   "cell_type": "markdown",
   "id": "82c72807",
   "metadata": {
    "heading_collapsed": true
   },
   "source": [
    "## Filtrar outliers "
   ]
  },
  {
   "cell_type": "code",
   "execution_count": null,
   "id": "6fa2e9ad",
   "metadata": {
    "hidden": true
   },
   "outputs": [],
   "source": []
  },
  {
   "cell_type": "markdown",
   "id": "803c8e9c",
   "metadata": {
    "heading_collapsed": true
   },
   "source": [
    "## Lidiar con NANs"
   ]
  },
  {
   "cell_type": "code",
   "execution_count": null,
   "id": "53a40496",
   "metadata": {
    "hidden": true
   },
   "outputs": [],
   "source": []
  },
  {
   "cell_type": "markdown",
   "id": "6a1ff706",
   "metadata": {
    "heading_collapsed": true
   },
   "source": [
    "## Validar nuestros datos"
   ]
  },
  {
   "cell_type": "code",
   "execution_count": null,
   "id": "762c8568",
   "metadata": {
    "hidden": true
   },
   "outputs": [],
   "source": []
  },
  {
   "cell_type": "markdown",
   "id": "370eca7d",
   "metadata": {
    "heading_collapsed": true
   },
   "source": [
    "# EDA"
   ]
  },
  {
   "cell_type": "markdown",
   "id": "bc753449",
   "metadata": {
    "heading_collapsed": true,
    "hidden": true
   },
   "source": [
    "## Cual es el TOP10 de juegos más jugados?"
   ]
  },
  {
   "cell_type": "code",
   "execution_count": null,
   "id": "707ca7b0",
   "metadata": {
    "hidden": true
   },
   "outputs": [],
   "source": []
  },
  {
   "cell_type": "markdown",
   "id": "91c856c8",
   "metadata": {
    "heading_collapsed": true,
    "hidden": true
   },
   "source": [
    "## Cuál es el género de videojuegos más vendido?"
   ]
  },
  {
   "cell_type": "code",
   "execution_count": null,
   "id": "7a68737c",
   "metadata": {
    "hidden": true
   },
   "outputs": [],
   "source": []
  },
  {
   "cell_type": "markdown",
   "id": "ae31c80d",
   "metadata": {
    "heading_collapsed": true,
    "hidden": true
   },
   "source": [
    "## Qué géneros tienen mejores reviews de media?"
   ]
  },
  {
   "cell_type": "code",
   "execution_count": null,
   "id": "201442f3",
   "metadata": {
    "hidden": true
   },
   "outputs": [],
   "source": []
  },
  {
   "cell_type": "markdown",
   "id": "1f001109",
   "metadata": {
    "heading_collapsed": true,
    "hidden": true
   },
   "source": [
    "## Cuánto ha ganado el desarrollador que más juegos ha vendido?"
   ]
  },
  {
   "cell_type": "code",
   "execution_count": null,
   "id": "52e9622e",
   "metadata": {
    "hidden": true
   },
   "outputs": [],
   "source": []
  },
  {
   "cell_type": "markdown",
   "id": "8546f78c",
   "metadata": {
    "heading_collapsed": true,
    "hidden": true
   },
   "source": [
    "## Cómo afecta a las reviews que un juego sea Early Access?"
   ]
  },
  {
   "cell_type": "code",
   "execution_count": null,
   "id": "775dbf55",
   "metadata": {
    "hidden": true
   },
   "outputs": [],
   "source": []
  },
  {
   "cell_type": "markdown",
   "id": "79b52e68",
   "metadata": {
    "heading_collapsed": true,
    "hidden": true
   },
   "source": [
    "## Cuál es el desarrollador (o desarrolladores) que más tipos de juego y cantidad ha desarrollado?"
   ]
  },
  {
   "cell_type": "code",
   "execution_count": null,
   "id": "b93f440f",
   "metadata": {
    "hidden": true
   },
   "outputs": [],
   "source": []
  },
  {
   "cell_type": "markdown",
   "id": "19762f5f",
   "metadata": {
    "heading_collapsed": true,
    "hidden": true
   },
   "source": [
    "## En qué mes, desde que tenemos datos, se han publicado más juegos?"
   ]
  },
  {
   "cell_type": "code",
   "execution_count": null,
   "id": "13a444d0",
   "metadata": {
    "hidden": true
   },
   "outputs": [],
   "source": []
  },
  {
   "cell_type": "markdown",
   "id": "5c8f200a",
   "metadata": {
    "heading_collapsed": true,
    "hidden": true
   },
   "source": [
    "## Cuántas horas se juega de media a cada tipo de juego mensualmente?"
   ]
  },
  {
   "cell_type": "code",
   "execution_count": null,
   "id": "d068c0c8",
   "metadata": {
    "hidden": true
   },
   "outputs": [],
   "source": []
  },
  {
   "cell_type": "markdown",
   "id": "f7004dc2",
   "metadata": {
    "heading_collapsed": true,
    "hidden": true
   },
   "source": [
    "## Los juegos Free to Play tienen mejores o peores reviews?"
   ]
  },
  {
   "cell_type": "code",
   "execution_count": null,
   "id": "b080651f",
   "metadata": {
    "hidden": true
   },
   "outputs": [],
   "source": []
  },
  {
   "cell_type": "markdown",
   "id": "3acaca33",
   "metadata": {
    "heading_collapsed": true,
    "hidden": true
   },
   "source": [
    "## Cómo ha evolucionado el número de achievements (trofeos) por juego?"
   ]
  },
  {
   "cell_type": "code",
   "execution_count": null,
   "id": "297fc804",
   "metadata": {
    "hidden": true
   },
   "outputs": [],
   "source": []
  },
  {
   "cell_type": "markdown",
   "id": "9806da6f",
   "metadata": {
    "heading_collapsed": true,
    "hidden": true
   },
   "source": [
    "## Bonus! Si tienes curiosidad, y quieres contestar más preguntas, puedes resolverlas aquí mismo!"
   ]
  }
 ],
 "metadata": {
  "kernelspec": {
   "display_name": "Python 3 (ipykernel)",
   "language": "python",
   "name": "python3"
  },
  "language_info": {
   "codemirror_mode": {
    "name": "ipython",
    "version": 3
   },
   "file_extension": ".py",
   "mimetype": "text/x-python",
   "name": "python",
   "nbconvert_exporter": "python",
   "pygments_lexer": "ipython3",
   "version": "3.12.3"
  },
  "toc": {
   "base_numbering": 1,
   "nav_menu": {},
   "number_sections": true,
   "sideBar": true,
   "skip_h1_title": false,
   "title_cell": "Table of Contents",
   "title_sidebar": "Contents",
   "toc_cell": false,
   "toc_position": {
    "height": "calc(100% - 180px)",
    "left": "10px",
    "top": "150px",
    "width": "409.594px"
   },
   "toc_section_display": true,
   "toc_window_display": false
  }
 },
 "nbformat": 4,
 "nbformat_minor": 5
}
