{
 "cells": [
  {
   "cell_type": "markdown",
   "id": "86a1dad7",
   "metadata": {},
   "source": [
    "![](https://import.cdn.thinkific.com/220744/BExaQBPPQairRWFqxFbK_logo_mastermind_web_png)"
   ]
  },
  {
   "cell_type": "markdown",
   "id": "fe9937c1",
   "metadata": {},
   "source": [
    "¡Ahora es **vuestro turno!**\n",
    "\n",
    "En este proyecto final os he adjuntado un Dataset con 27.075 juegos en **Steam**, la popular plataforma de juegos de PC. Esta lista está actualizada desde el inicio hasta Abril de 2019.\n",
    "\n",
    "Ya que tenéis los conocimientos, os pediré que me contestéis a **10 preguntas**:\n",
    "1. Cual es el TOP10 de juegos más jugados?\n",
    "2. Cuál es el género de videojuegos más vendido?\n",
    "3. Qué géneros tienen mejores reviews de media?\n",
    "4. Cuánto ha ganado el desarrollador que más juegos ha vendido?\n",
    "5. Cómo afecta a las reviews que un juego sea Early Access?\n",
    "6. Cuál es el desarrollador (o desarrolladores) que más tipos de juego y cantidad ha desarrollado?\n",
    "7. En qué mes, desde que tenemos datos, se han publicado más juegos?\n",
    "8. Cuántas horas se juega de media a cada tipo de juego mensualmente?\n",
    "9. Los juegos Free to Play tienen mejores o peores reviews?\n",
    "10. Cómo ha evolucionado el número de achievements (trofeos) por juego?\n",
    "\n",
    "Os dejamos via libre para contestar a estas preguntas como más os apetezca. Recordad que no hay nada de malo en consultar por internet si tenéis dudas. Las documentaciones oficiales o [Stack Overflow](https://stackoverflow.com/) son sitios geniales para ello!\n",
    "\n",
    "Al acabar este proyecto, publicadlo en el foro donde está colgado para ver quién es el mejor!\n",
    "\n",
    "Os dejo la guía de pasos a seguir.\n",
    "\n",
    "Muchos ánimos!!\n",
    "\n",
    "\n"
   ]
  },
  {
   "cell_type": "markdown",
   "id": "18df0261",
   "metadata": {
    "heading_collapsed": true
   },
   "source": [
    "# Importando librerías"
   ]
  },
  {
   "cell_type": "code",
   "execution_count": 35,
   "id": "923c8888",
   "metadata": {
    "hidden": true
   },
   "outputs": [],
   "source": [
    "import urllib.request as Req\n",
    "from zipfile import ZipFile\n",
    "import numpy as np\n",
    "import pandas as pd\n",
    "import matplotlib.pyplot as plt\n",
    "\n",
    "%matplotlib inline"
   ]
  },
  {
   "cell_type": "markdown",
   "id": "e3acb737",
   "metadata": {
    "heading_collapsed": true
   },
   "source": [
    "# Consiguiendo los datos"
   ]
  },
  {
   "cell_type": "markdown",
   "id": "42f5d40b",
   "metadata": {
    "heading_collapsed": true,
    "hidden": true
   },
   "source": [
    "### Conseguir link"
   ]
  },
  {
   "cell_type": "code",
   "execution_count": 36,
   "id": "ad9ca0ff",
   "metadata": {
    "hidden": true
   },
   "outputs": [],
   "source": [
    "url = 'https://neo-mastermind.s3.amazonaws.com/uploads/froala_editor/files/SteamDataset-220424-201858.zip'"
   ]
  },
  {
   "cell_type": "markdown",
   "id": "1b73c5c2",
   "metadata": {
    "heading_collapsed": true,
    "hidden": true
   },
   "source": [
    "### Descargar el archivo"
   ]
  },
  {
   "cell_type": "code",
   "execution_count": 37,
   "id": "7be2431e",
   "metadata": {
    "hidden": true
   },
   "outputs": [
    {
     "data": {
      "text/plain": [
       "('steam.zip', <http.client.HTTPMessage at 0x2325ee69340>)"
      ]
     },
     "execution_count": 37,
     "metadata": {},
     "output_type": "execute_result"
    }
   ],
   "source": [
    "Req.urlretrieve(url, 'steam.zip')"
   ]
  },
  {
   "cell_type": "markdown",
   "id": "d80298c8",
   "metadata": {
    "heading_collapsed": true,
    "hidden": true
   },
   "source": [
    "### Descomprimir el archivo"
   ]
  },
  {
   "cell_type": "code",
   "execution_count": 38,
   "id": "515ffb9f",
   "metadata": {
    "hidden": true
   },
   "outputs": [],
   "source": [
    "steam_zip = ZipFile('steam.zip')"
   ]
  },
  {
   "cell_type": "code",
   "execution_count": 39,
   "id": "6161e628",
   "metadata": {
    "hidden": true
   },
   "outputs": [
    {
     "data": {
      "text/plain": [
       "[<ZipInfo filename='steam.csv' compress_type=deflate external_attr=0x20 file_size=3425223 compress_size=979195>]"
      ]
     },
     "execution_count": 39,
     "metadata": {},
     "output_type": "execute_result"
    }
   ],
   "source": [
    "steam_zip.filelist"
   ]
  },
  {
   "cell_type": "code",
   "execution_count": 40,
   "id": "807050d9",
   "metadata": {
    "hidden": true
   },
   "outputs": [],
   "source": [
    "archivo = steam_zip.open('steam.csv')"
   ]
  },
  {
   "cell_type": "markdown",
   "id": "9a36b95a",
   "metadata": {
    "heading_collapsed": true,
    "hidden": true
   },
   "source": [
    "### Construir DataFrame"
   ]
  },
  {
   "cell_type": "code",
   "execution_count": 41,
   "id": "715bbc8f",
   "metadata": {
    "hidden": true
   },
   "outputs": [],
   "source": [
    "df = pd.read_csv(archivo, index_col=0)"
   ]
  },
  {
   "cell_type": "code",
   "execution_count": 42,
   "id": "d4d38e34",
   "metadata": {
    "hidden": true
   },
   "outputs": [
    {
     "data": {
      "text/html": [
       "<div>\n",
       "<style scoped>\n",
       "    .dataframe tbody tr th:only-of-type {\n",
       "        vertical-align: middle;\n",
       "    }\n",
       "\n",
       "    .dataframe tbody tr th {\n",
       "        vertical-align: top;\n",
       "    }\n",
       "\n",
       "    .dataframe thead th {\n",
       "        text-align: right;\n",
       "    }\n",
       "</style>\n",
       "<table border=\"1\" class=\"dataframe\">\n",
       "  <thead>\n",
       "    <tr style=\"text-align: right;\">\n",
       "      <th></th>\n",
       "      <th>name</th>\n",
       "      <th>release_date</th>\n",
       "      <th>developer</th>\n",
       "      <th>achievements</th>\n",
       "      <th>positive_ratings</th>\n",
       "      <th>negative_ratings</th>\n",
       "      <th>avg_hours_per_user</th>\n",
       "      <th>price</th>\n",
       "      <th>sells</th>\n",
       "      <th>action</th>\n",
       "      <th>adventure</th>\n",
       "      <th>rpg</th>\n",
       "      <th>simulation</th>\n",
       "      <th>strategy</th>\n",
       "      <th>racing</th>\n",
       "      <th>free_to_play</th>\n",
       "      <th>early_access</th>\n",
       "    </tr>\n",
       "  </thead>\n",
       "  <tbody>\n",
       "    <tr>\n",
       "      <th>0</th>\n",
       "      <td>Counter-Strike</td>\n",
       "      <td>2000-11-01</td>\n",
       "      <td>Valve</td>\n",
       "      <td>0</td>\n",
       "      <td>124534</td>\n",
       "      <td>3339</td>\n",
       "      <td>17612</td>\n",
       "      <td>7.19€</td>\n",
       "      <td>15000000.0</td>\n",
       "      <td>True</td>\n",
       "      <td>False</td>\n",
       "      <td>False</td>\n",
       "      <td>False</td>\n",
       "      <td>False</td>\n",
       "      <td>False</td>\n",
       "      <td>False</td>\n",
       "      <td>False</td>\n",
       "    </tr>\n",
       "    <tr>\n",
       "      <th>1</th>\n",
       "      <td>Team Fortress Classic</td>\n",
       "      <td>1999-04-01</td>\n",
       "      <td>Valve</td>\n",
       "      <td>0</td>\n",
       "      <td>3318</td>\n",
       "      <td>633</td>\n",
       "      <td>277</td>\n",
       "      <td>3.99€</td>\n",
       "      <td>7500000.0</td>\n",
       "      <td>True</td>\n",
       "      <td>False</td>\n",
       "      <td>False</td>\n",
       "      <td>False</td>\n",
       "      <td>False</td>\n",
       "      <td>False</td>\n",
       "      <td>False</td>\n",
       "      <td>False</td>\n",
       "    </tr>\n",
       "    <tr>\n",
       "      <th>2</th>\n",
       "      <td>Day of Defeat</td>\n",
       "      <td>2003-05-01</td>\n",
       "      <td>Valve</td>\n",
       "      <td>0</td>\n",
       "      <td>3416</td>\n",
       "      <td>398</td>\n",
       "      <td>187</td>\n",
       "      <td>3.99€</td>\n",
       "      <td>7500000.0</td>\n",
       "      <td>True</td>\n",
       "      <td>False</td>\n",
       "      <td>False</td>\n",
       "      <td>False</td>\n",
       "      <td>False</td>\n",
       "      <td>False</td>\n",
       "      <td>False</td>\n",
       "      <td>False</td>\n",
       "    </tr>\n",
       "    <tr>\n",
       "      <th>3</th>\n",
       "      <td>Deathmatch Classic</td>\n",
       "      <td>2001-06-01</td>\n",
       "      <td>Valve</td>\n",
       "      <td>0</td>\n",
       "      <td>1273</td>\n",
       "      <td>267</td>\n",
       "      <td>258</td>\n",
       "      <td>3.99€</td>\n",
       "      <td>7500000.0</td>\n",
       "      <td>True</td>\n",
       "      <td>False</td>\n",
       "      <td>False</td>\n",
       "      <td>False</td>\n",
       "      <td>False</td>\n",
       "      <td>False</td>\n",
       "      <td>False</td>\n",
       "      <td>False</td>\n",
       "    </tr>\n",
       "    <tr>\n",
       "      <th>4</th>\n",
       "      <td>Half-Life: Opposing Force</td>\n",
       "      <td>1999-11-01</td>\n",
       "      <td>Gearbox Software</td>\n",
       "      <td>0</td>\n",
       "      <td>5250</td>\n",
       "      <td>288</td>\n",
       "      <td>624</td>\n",
       "      <td>3.99€</td>\n",
       "      <td>7500000.0</td>\n",
       "      <td>True</td>\n",
       "      <td>False</td>\n",
       "      <td>False</td>\n",
       "      <td>False</td>\n",
       "      <td>False</td>\n",
       "      <td>False</td>\n",
       "      <td>False</td>\n",
       "      <td>False</td>\n",
       "    </tr>\n",
       "    <tr>\n",
       "      <th>...</th>\n",
       "      <td>...</td>\n",
       "      <td>...</td>\n",
       "      <td>...</td>\n",
       "      <td>...</td>\n",
       "      <td>...</td>\n",
       "      <td>...</td>\n",
       "      <td>...</td>\n",
       "      <td>...</td>\n",
       "      <td>...</td>\n",
       "      <td>...</td>\n",
       "      <td>...</td>\n",
       "      <td>...</td>\n",
       "      <td>...</td>\n",
       "      <td>...</td>\n",
       "      <td>...</td>\n",
       "      <td>...</td>\n",
       "      <td>...</td>\n",
       "    </tr>\n",
       "    <tr>\n",
       "      <th>27098</th>\n",
       "      <td>Google Spotlight Stories: Piggy</td>\n",
       "      <td>2018-06-06</td>\n",
       "      <td>Google Inc.</td>\n",
       "      <td>0</td>\n",
       "      <td>15</td>\n",
       "      <td>0</td>\n",
       "      <td>0</td>\n",
       "      <td>0.0€</td>\n",
       "      <td>10000.0</td>\n",
       "      <td>False</td>\n",
       "      <td>True</td>\n",
       "      <td>False</td>\n",
       "      <td>False</td>\n",
       "      <td>False</td>\n",
       "      <td>False</td>\n",
       "      <td>True</td>\n",
       "      <td>False</td>\n",
       "    </tr>\n",
       "    <tr>\n",
       "      <th>27099</th>\n",
       "      <td>Sausage Sports Club</td>\n",
       "      <td>2018-07-19</td>\n",
       "      <td>Chris Wade</td>\n",
       "      <td>18</td>\n",
       "      <td>16</td>\n",
       "      <td>3</td>\n",
       "      <td>0</td>\n",
       "      <td>10.99€</td>\n",
       "      <td>10000.0</td>\n",
       "      <td>True</td>\n",
       "      <td>True</td>\n",
       "      <td>False</td>\n",
       "      <td>False</td>\n",
       "      <td>False</td>\n",
       "      <td>False</td>\n",
       "      <td>False</td>\n",
       "      <td>False</td>\n",
       "    </tr>\n",
       "    <tr>\n",
       "      <th>27100</th>\n",
       "      <td>Party Panic</td>\n",
       "      <td>2017-08-07</td>\n",
       "      <td>Everglow Interactive Inc.</td>\n",
       "      <td>28</td>\n",
       "      <td>619</td>\n",
       "      <td>226</td>\n",
       "      <td>84</td>\n",
       "      <td>12.99€</td>\n",
       "      <td>75000.0</td>\n",
       "      <td>True</td>\n",
       "      <td>False</td>\n",
       "      <td>False</td>\n",
       "      <td>False</td>\n",
       "      <td>False</td>\n",
       "      <td>False</td>\n",
       "      <td>False</td>\n",
       "      <td>False</td>\n",
       "    </tr>\n",
       "    <tr>\n",
       "      <th>27101</th>\n",
       "      <td>SoulHunt</td>\n",
       "      <td>2016-12-23</td>\n",
       "      <td>WinterCell Studios</td>\n",
       "      <td>18</td>\n",
       "      <td>56</td>\n",
       "      <td>19</td>\n",
       "      <td>0</td>\n",
       "      <td>5.99€</td>\n",
       "      <td>10000.0</td>\n",
       "      <td>True</td>\n",
       "      <td>False</td>\n",
       "      <td>False</td>\n",
       "      <td>False</td>\n",
       "      <td>False</td>\n",
       "      <td>False</td>\n",
       "      <td>False</td>\n",
       "      <td>True</td>\n",
       "    </tr>\n",
       "    <tr>\n",
       "      <th>27102</th>\n",
       "      <td>Quickshot</td>\n",
       "      <td>2018-03-12</td>\n",
       "      <td>Headroom.one</td>\n",
       "      <td>0</td>\n",
       "      <td>2</td>\n",
       "      <td>1</td>\n",
       "      <td>0</td>\n",
       "      <td>2.09€</td>\n",
       "      <td>10000.0</td>\n",
       "      <td>True</td>\n",
       "      <td>False</td>\n",
       "      <td>False</td>\n",
       "      <td>False</td>\n",
       "      <td>False</td>\n",
       "      <td>False</td>\n",
       "      <td>False</td>\n",
       "      <td>False</td>\n",
       "    </tr>\n",
       "  </tbody>\n",
       "</table>\n",
       "<p>27103 rows × 17 columns</p>\n",
       "</div>"
      ],
      "text/plain": [
       "                                  name release_date  \\\n",
       "0                       Counter-Strike   2000-11-01   \n",
       "1                Team Fortress Classic   1999-04-01   \n",
       "2                        Day of Defeat   2003-05-01   \n",
       "3                   Deathmatch Classic   2001-06-01   \n",
       "4            Half-Life: Opposing Force   1999-11-01   \n",
       "...                                ...          ...   \n",
       "27098  Google Spotlight Stories: Piggy   2018-06-06   \n",
       "27099              Sausage Sports Club   2018-07-19   \n",
       "27100                      Party Panic   2017-08-07   \n",
       "27101                         SoulHunt   2016-12-23   \n",
       "27102                        Quickshot   2018-03-12   \n",
       "\n",
       "                       developer  achievements  positive_ratings  \\\n",
       "0                          Valve             0            124534   \n",
       "1                          Valve             0              3318   \n",
       "2                          Valve             0              3416   \n",
       "3                          Valve             0              1273   \n",
       "4               Gearbox Software             0              5250   \n",
       "...                          ...           ...               ...   \n",
       "27098                Google Inc.             0                15   \n",
       "27099                 Chris Wade            18                16   \n",
       "27100  Everglow Interactive Inc.            28               619   \n",
       "27101         WinterCell Studios            18                56   \n",
       "27102               Headroom.one             0                 2   \n",
       "\n",
       "       negative_ratings  avg_hours_per_user   price       sells  action  \\\n",
       "0                  3339               17612   7.19€  15000000.0    True   \n",
       "1                   633                 277   3.99€   7500000.0    True   \n",
       "2                   398                 187   3.99€   7500000.0    True   \n",
       "3                   267                 258   3.99€   7500000.0    True   \n",
       "4                   288                 624   3.99€   7500000.0    True   \n",
       "...                 ...                 ...     ...         ...     ...   \n",
       "27098                 0                   0    0.0€     10000.0   False   \n",
       "27099                 3                   0  10.99€     10000.0    True   \n",
       "27100               226                  84  12.99€     75000.0    True   \n",
       "27101                19                   0   5.99€     10000.0    True   \n",
       "27102                 1                   0   2.09€     10000.0    True   \n",
       "\n",
       "       adventure    rpg  simulation  strategy  racing  free_to_play  \\\n",
       "0          False  False       False     False   False         False   \n",
       "1          False  False       False     False   False         False   \n",
       "2          False  False       False     False   False         False   \n",
       "3          False  False       False     False   False         False   \n",
       "4          False  False       False     False   False         False   \n",
       "...          ...    ...         ...       ...     ...           ...   \n",
       "27098       True  False       False     False   False          True   \n",
       "27099       True  False       False     False   False         False   \n",
       "27100      False  False       False     False   False         False   \n",
       "27101      False  False       False     False   False         False   \n",
       "27102      False  False       False     False   False         False   \n",
       "\n",
       "       early_access  \n",
       "0             False  \n",
       "1             False  \n",
       "2             False  \n",
       "3             False  \n",
       "4             False  \n",
       "...             ...  \n",
       "27098         False  \n",
       "27099         False  \n",
       "27100         False  \n",
       "27101          True  \n",
       "27102         False  \n",
       "\n",
       "[27103 rows x 17 columns]"
      ]
     },
     "execution_count": 42,
     "metadata": {},
     "output_type": "execute_result"
    }
   ],
   "source": [
    "df"
   ]
  },
  {
   "cell_type": "markdown",
   "id": "2ca18c79",
   "metadata": {
    "heading_collapsed": true
   },
   "source": [
    "# Limpieza y manipulación de datos"
   ]
  },
  {
   "cell_type": "markdown",
   "id": "daf803f8",
   "metadata": {
    "heading_collapsed": true,
    "hidden": true
   },
   "source": [
    "## Quitar datos duplicados o irrelevantes"
   ]
  },
  {
   "cell_type": "code",
   "execution_count": null,
   "id": "b62c4b31",
   "metadata": {
    "hidden": true
   },
   "outputs": [],
   "source": []
  },
  {
   "cell_type": "markdown",
   "id": "0fb77f6d",
   "metadata": {
    "heading_collapsed": true,
    "hidden": true
   },
   "source": [
    "## Arreglar errores estructurales"
   ]
  },
  {
   "cell_type": "code",
   "execution_count": null,
   "id": "087c63b0",
   "metadata": {
    "hidden": true
   },
   "outputs": [],
   "source": []
  },
  {
   "cell_type": "markdown",
   "id": "04610459",
   "metadata": {
    "hidden": true
   },
   "source": [
    "### Definir errores\n",
    "\n",
    "Recuerda hacer una exploración de datos para encontrar estos errores. Os confirmo que hay unos cuantos!"
   ]
  },
  {
   "cell_type": "markdown",
   "id": "82c72807",
   "metadata": {
    "heading_collapsed": true,
    "hidden": true
   },
   "source": [
    "## Filtrar outliers "
   ]
  },
  {
   "cell_type": "code",
   "execution_count": null,
   "id": "6fa2e9ad",
   "metadata": {
    "hidden": true
   },
   "outputs": [],
   "source": []
  },
  {
   "cell_type": "markdown",
   "id": "803c8e9c",
   "metadata": {
    "heading_collapsed": true,
    "hidden": true
   },
   "source": [
    "## Lidiar con NANs"
   ]
  },
  {
   "cell_type": "code",
   "execution_count": null,
   "id": "53a40496",
   "metadata": {
    "hidden": true
   },
   "outputs": [],
   "source": []
  },
  {
   "cell_type": "markdown",
   "id": "6a1ff706",
   "metadata": {
    "heading_collapsed": true,
    "hidden": true
   },
   "source": [
    "## Validar nuestros datos"
   ]
  },
  {
   "cell_type": "code",
   "execution_count": null,
   "id": "762c8568",
   "metadata": {
    "hidden": true
   },
   "outputs": [],
   "source": []
  },
  {
   "cell_type": "markdown",
   "id": "370eca7d",
   "metadata": {
    "heading_collapsed": true
   },
   "source": [
    "# EDA"
   ]
  },
  {
   "cell_type": "markdown",
   "id": "bc753449",
   "metadata": {
    "heading_collapsed": true,
    "hidden": true
   },
   "source": [
    "## Cual es el TOP10 de juegos más jugados?"
   ]
  },
  {
   "cell_type": "code",
   "execution_count": null,
   "id": "707ca7b0",
   "metadata": {
    "hidden": true
   },
   "outputs": [],
   "source": []
  },
  {
   "cell_type": "markdown",
   "id": "91c856c8",
   "metadata": {
    "heading_collapsed": true,
    "hidden": true
   },
   "source": [
    "## Cuál es el género de videojuegos más vendido?"
   ]
  },
  {
   "cell_type": "code",
   "execution_count": null,
   "id": "7a68737c",
   "metadata": {
    "hidden": true
   },
   "outputs": [],
   "source": []
  },
  {
   "cell_type": "markdown",
   "id": "ae31c80d",
   "metadata": {
    "heading_collapsed": true,
    "hidden": true
   },
   "source": [
    "## Qué géneros tienen mejores reviews de media?"
   ]
  },
  {
   "cell_type": "code",
   "execution_count": null,
   "id": "201442f3",
   "metadata": {
    "hidden": true
   },
   "outputs": [],
   "source": []
  },
  {
   "cell_type": "markdown",
   "id": "1f001109",
   "metadata": {
    "heading_collapsed": true,
    "hidden": true
   },
   "source": [
    "## Cuánto ha ganado el desarrollador que más juegos ha vendido?"
   ]
  },
  {
   "cell_type": "code",
   "execution_count": null,
   "id": "52e9622e",
   "metadata": {
    "hidden": true
   },
   "outputs": [],
   "source": []
  },
  {
   "cell_type": "markdown",
   "id": "8546f78c",
   "metadata": {
    "heading_collapsed": true,
    "hidden": true
   },
   "source": [
    "## Cómo afecta a las reviews que un juego sea Early Access?"
   ]
  },
  {
   "cell_type": "code",
   "execution_count": null,
   "id": "775dbf55",
   "metadata": {
    "hidden": true
   },
   "outputs": [],
   "source": []
  },
  {
   "cell_type": "markdown",
   "id": "79b52e68",
   "metadata": {
    "heading_collapsed": true,
    "hidden": true
   },
   "source": [
    "## Cuál es el desarrollador (o desarrolladores) que más tipos de juego y cantidad ha desarrollado?"
   ]
  },
  {
   "cell_type": "code",
   "execution_count": null,
   "id": "b93f440f",
   "metadata": {
    "hidden": true
   },
   "outputs": [],
   "source": []
  },
  {
   "cell_type": "markdown",
   "id": "19762f5f",
   "metadata": {
    "heading_collapsed": true,
    "hidden": true
   },
   "source": [
    "## En qué mes, desde que tenemos datos, se han publicado más juegos?"
   ]
  },
  {
   "cell_type": "code",
   "execution_count": null,
   "id": "13a444d0",
   "metadata": {
    "hidden": true
   },
   "outputs": [],
   "source": []
  },
  {
   "cell_type": "markdown",
   "id": "5c8f200a",
   "metadata": {
    "heading_collapsed": true,
    "hidden": true
   },
   "source": [
    "## Cuántas horas se juega de media a cada tipo de juego mensualmente?"
   ]
  },
  {
   "cell_type": "code",
   "execution_count": null,
   "id": "d068c0c8",
   "metadata": {
    "hidden": true
   },
   "outputs": [],
   "source": []
  },
  {
   "cell_type": "markdown",
   "id": "f7004dc2",
   "metadata": {
    "heading_collapsed": true,
    "hidden": true
   },
   "source": [
    "## Los juegos Free to Play tienen mejores o peores reviews?"
   ]
  },
  {
   "cell_type": "code",
   "execution_count": null,
   "id": "b080651f",
   "metadata": {
    "hidden": true
   },
   "outputs": [],
   "source": []
  },
  {
   "cell_type": "markdown",
   "id": "3acaca33",
   "metadata": {
    "heading_collapsed": true,
    "hidden": true
   },
   "source": [
    "## Cómo ha evolucionado el número de achievements (trofeos) por juego?"
   ]
  },
  {
   "cell_type": "code",
   "execution_count": null,
   "id": "297fc804",
   "metadata": {
    "hidden": true
   },
   "outputs": [],
   "source": []
  },
  {
   "cell_type": "markdown",
   "id": "9806da6f",
   "metadata": {
    "heading_collapsed": true,
    "hidden": true
   },
   "source": [
    "## Bonus! Si tienes curiosidad, y quieres contestar más preguntas, puedes resolverlas aquí mismo!"
   ]
  }
 ],
 "metadata": {
  "kernelspec": {
   "display_name": "Python 3 (ipykernel)",
   "language": "python",
   "name": "python3"
  },
  "language_info": {
   "codemirror_mode": {
    "name": "ipython",
    "version": 3
   },
   "file_extension": ".py",
   "mimetype": "text/x-python",
   "name": "python",
   "nbconvert_exporter": "python",
   "pygments_lexer": "ipython3",
   "version": "3.12.3"
  },
  "toc": {
   "base_numbering": 1,
   "nav_menu": {},
   "number_sections": true,
   "sideBar": true,
   "skip_h1_title": false,
   "title_cell": "Table of Contents",
   "title_sidebar": "Contents",
   "toc_cell": false,
   "toc_position": {
    "height": "calc(100% - 180px)",
    "left": "10px",
    "top": "150px",
    "width": "409.594px"
   },
   "toc_section_display": true,
   "toc_window_display": true
  }
 },
 "nbformat": 4,
 "nbformat_minor": 5
}
